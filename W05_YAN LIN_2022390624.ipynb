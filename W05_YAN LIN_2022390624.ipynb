{
  "nbformat": 4,
  "nbformat_minor": 0,
  "metadata": {
    "colab": {
      "provenance": []
    },
    "kernelspec": {
      "name": "python3",
      "display_name": "Python 3"
    },
    "language_info": {
      "name": "python"
    }
  },
  "cells": [
    {
      "cell_type": "code",
      "execution_count": null,
      "metadata": {
        "id": "JOYN-R591-nd"
      },
      "outputs": [],
      "source": [
        "import pandas as pd\n",
        "import matplotlib.pyplot as plt\n",
        "import seaborn as sns\n",
        "\n",
        "# Load the dataset\n",
        "data = pd.read_csv('PurchasesFINAL12312016.csv')\n",
        "# Display the first few rows of the dataset to understand its structure\n",
        "data.head()\n",
        "\n",
        "# Basic data overview: column names, data types, and missing values\n",
        "data.info()\n",
        "\n",
        "# Summary statistics for numeric columns\n",
        "summary_stats = data.describe()\n",
        "summary_stats\n",
        "\n",
        "# Set up the canvas for two plots side by side\n",
        "plt.figure(figsize=(14,6))\n",
        "\n",
        "# Plot the distribution of PurchasePrice\n",
        "plt.subplot(1, 2, 1)\n",
        "sns.histplot(data['PurchasePrice'], bins=20, kde=True, color='blue')\n",
        "plt.title('Distribution of Purchase Price')\n",
        "\n",
        "# Plot the distribution of Quantity\n",
        "plt.subplot(1, 2, 2)\n",
        "sns.histplot(data['Quantity'], bins=20, kde=True, color='green')\n",
        "plt.title('Distribution of Quantity')\n",
        "\n",
        "# Adjust the layout\n",
        "plt.tight_layout()\n",
        "plt.show()\n",
        "\n",
        "# Group the data by VendorName and sum the total purchases (Dollars)\n",
        "vendor_purchases = data.groupby('VendorName')['Dollars'].sum().sort_values(ascending=False)\n",
        "\n",
        "# Plot a bar chart for the top 10 vendors\n",
        "plt.figure(figsize=(10,6))\n",
        "sns.barplot(x=vendor_purchases.head(10).values, y=vendor_purchases.head(10).index, palette='viridis')\n",
        "plt.title('Top 10 Vendors by Total Purchases (Dollars)')\n",
        "plt.xlabel('Total Dollars')\n",
        "plt.show()\n",
        "\n",
        "# Convert the 'PODate' to datetime if it is not already in that format\n",
        "data['PODate'] = pd.to_datetime(data['PODate'])\n",
        "\n",
        "# Group the data by month and sum the total purchases in each month\n",
        "monthly_purchases = data.groupby(data['PODate'].dt.to_period('M'))['Dollars'].sum()\n",
        "\n",
        "# Plot the purchase trend over time\n",
        "plt.figure(figsize=(10,6))\n",
        "monthly_purchases.plot()\n",
        "plt.title('Total Purchases Over Time')\n",
        "plt.ylabel('Dollars')\n",
        "plt.xlabel('Month')\n",
        "plt.show()"
      ]
    }
  ]
}